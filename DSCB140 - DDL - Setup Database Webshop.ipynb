{
 "cells": [
  {
   "cell_type": "markdown",
   "metadata": {},
   "source": [
    "# Webshop - DDL - Anlegen der Tabellen und Beziehungen\n",
    "### Hinweise\n",
    "- In den Verbindungsparametern müssen Sie unter hostname die private IP-Adresse des MySQL-Servers einfügen (siehe Codelab).\n",
    "- Auch das Passwort des root-Nutzers müssen Sie anpassen.\n",
    "- Wenn Sie die gesamte webshop-Datenbankstruktur erzeugen möchten müssen Sie alle Zellen ausführen (Menü Run -> Run all cells)."
   ]
  },
  {
   "cell_type": "code",
   "execution_count": null,
   "metadata": {},
   "outputs": [],
   "source": [
    "# verwendete Pakete\n",
    "import mysql.connector"
   ]
  },
  {
   "cell_type": "markdown",
   "metadata": {},
   "source": [
    "### Herstellen der Datenbankverbindung"
   ]
  },
  {
   "cell_type": "markdown",
   "metadata": {},
   "source": [
    "#### Notwendige Verbindungsparameter"
   ]
  },
  {
   "cell_type": "code",
   "execution_count": null,
   "metadata": {},
   "outputs": [],
   "source": [
    "hostname = ''  # die private IP-Adresse der Cloud SQL-Instanz\n",
    "username = 'root'  # wir haben bisher nur root als Nutzer\n",
    "password = ''  # das Kennwort, das Sie beim Anlegen der Instanz vergeben haben\n",
    "database = 'webshop'  # dies ist unsere Webshop-Datenbank"
   ]
  },
  {
   "cell_type": "markdown",
   "metadata": {},
   "source": [
    "### Testen der Verbindung"
   ]
  },
  {
   "cell_type": "code",
   "execution_count": null,
   "metadata": {},
   "outputs": [],
   "source": [
    "# dieser code sollte die bisherigen Datenbanken in Ihrem RDBMS anzeigen\n",
    "conn = mysql.connector.connect( host=hostname, user=username, passwd=password, autocommit=True)\n",
    "cur = conn.cursor()\n",
    "\n",
    "cur.execute(f\"show databases\")\n",
    "\n",
    "print(f\"Databases:\")\n",
    "for db in cur.fetchall():\n",
    "    print(f\"- {db[0]}\")\n",
    "    \n",
    "conn.close()"
   ]
  },
  {
   "cell_type": "markdown",
   "metadata": {},
   "source": [
    "## Anlegen der Datenbank und Definition des Datenbankschemas"
   ]
  },
  {
   "cell_type": "code",
   "execution_count": null,
   "metadata": {},
   "outputs": [],
   "source": [
    "conn = mysql.connector.connect( host=hostname, user=username, passwd=password, autocommit=True)  # create connection\n",
    "\n",
    "# first drop database to clear all tables and afterwards create new database webshop\n",
    "cur = conn.cursor()\n",
    "cur.execute (\"drop database if exists webshop\")\n",
    "cur.execute (\"create database webshop\")\n",
    "\n",
    "conn.close()\n",
    "\n",
    "# now execute all DDL statements\n",
    "conn = mysql.connector.connect(host=hostname, user=username, passwd=password, db=database, autocommit=True)  # create connection\n",
    "\n",
    "\n",
    "cur = conn.cursor()\n",
    "cur.execute(\"\"\"create table status (\n",
    "statusid int primary key,\n",
    "bearbeitungsstatus varchar(50)\n",
    ");\"\"\")\n",
    "\n",
    "cur.execute(\"\"\"create table kategorie (\n",
    "katid int primary key,\n",
    "bezeichnung varchar(50)\n",
    ");\"\"\")\n",
    "\n",
    "cur.execute(\"\"\"create table benutzer (\n",
    "email varchar(100) primary key,\n",
    "passwort varchar(50) not null,\n",
    "vorname varchar(50) not null,\n",
    "nachname varchar(50) not null\n",
    ");\"\"\")\n",
    "\n",
    "\n",
    "cur.execute(\"\"\"create table produkt (\n",
    "pnr int primary key,\n",
    "bezeichnung varchar(50),\n",
    "angelegt_am timestamp,\n",
    "verfuegbarkeit int not null,\n",
    "preis decimal(6,2) not null,\n",
    "katid int,\n",
    "foreign key (katid) references kategorie(katid) on delete cascade\n",
    ");\"\"\")\n",
    "\n",
    "cur.execute(\"\"\"create table abteilung (\n",
    "abtid int primary key,\n",
    "bezeichnung varchar(50),\n",
    "uebergeordnet_abtid int, -- Fremdschlüssel hier nicht NOT NULL! Kardinalitäten der Hierarchie!\n",
    "foreign key (uebergeordnet_abtid) references abteilung (abtid) on delete cascade  -- Fremdschlüssel-Constraint\n",
    ");\"\"\")\n",
    "\n",
    "cur.execute(\"\"\"create table kunde (\n",
    "email varchar(100) primary key, -- Primärschlüssel und gleichzeitg Fremdschlüssel\n",
    "kdnr int unique,  -- Spalte soll eindeutig sein\n",
    "strasse varchar(50),\n",
    "hausnummer varchar(10),\n",
    "plz varchar(5),\n",
    "ort varchar(50),\n",
    "geburtsdatum date,\n",
    "foreign key (email) references benutzer (email) on delete cascade  -- Fremdschlüssel-Constraint\n",
    ");\"\"\")\n",
    "\n",
    "cur.execute(\"\"\"create table mitarbeiter (\n",
    "email varchar(100) primary key, -- Primärschlüssel und gleichzeitg Fremdschlüssel\n",
    "manr int unique,  -- Spalte soll eindeutig sein\n",
    "telefonnr varchar(30),\n",
    "abtid int not null,\n",
    "foreign key (email) references benutzer (email) on delete cascade,  -- Fremdschlüssel-Constraint email\n",
    "foreign key (abtid) references abteilung (abtid) on delete cascade  -- Fremdschlüssel-Constraint abtid\n",
    ");\"\"\")\n",
    "\n",
    "cur.execute(\"\"\"create table bestellung ( \n",
    "bestnr int auto_increment primary key, -- automatische Hochzählen aktivieren\n",
    "bestelldatum TIMESTAMP,\n",
    "bearbeitet_email varchar(100) not null,  -- min-Kardinalität 1\n",
    "foreign key (bearbeitet_email) references mitarbeiter(email) on delete cascade, -- FK-Constraint\n",
    "kunde varchar(100) not null,  -- min-Kardinalität 1\n",
    "foreign key (kunde) references kunde(email) on delete cascade, -- FK-Constraint\n",
    "statusid int not null, -- min-Kardinalität 1\n",
    "foreign key (statusid) references status(statusid) on delete cascade -- FK-Constraint\n",
    ");\"\"\")\n",
    "\n",
    "cur.execute(\"\"\"create table warenkorbposition (\n",
    "kunde_email varchar(100), -- wird Teil des Primärschlüssels (s.u.), daher NOT NULL nicht nötig\n",
    "foreign key (kunde_email) references kunde(email) on delete cascade, -- gleichzeitig Teil vom Primärschlüssel und Fremdschlüssel\n",
    "pnr int, -- wird Teil des Primärschlüssels (s.u.), daher NOT NULL nicht nötig\n",
    "foreign key (pnr) references produkt(pnr) on delete cascade, -- gleichzeitig Teil vom Primärschlüssel und Fremdschlüssel\n",
    "menge int,\n",
    "primary key (kunde_email, pnr) -- Definition eines zusammengesetzten Primärschlüssels\n",
    ");\"\"\")\n",
    "\n",
    "\n",
    "cur.execute(\"\"\"create table bestellposition (\n",
    "bestnr int, -- wird Teil des Primärschlüssels (s.u.), daher NOT NULL nicht nötig\n",
    "foreign key (bestnr) references bestellung(bestnr) on delete cascade, -- gleichzeitig Teil vom Primärschlüssel und Fremdschlüssel\n",
    "pnr int, -- wird Teil des Primärschlüssels (s.u.), daher NOT NULL nicht nötig\n",
    "foreign key (pnr) references produkt(pnr) on delete cascade, -- gleichzeitig Teil vom Primärschlüssel und Fremdschlüssel\n",
    "menge int,\n",
    "primary key (bestnr, pnr) -- Definition eines zusammengesetzten Primärschlüssels, 8);\n",
    ");\"\"\")\n",
    "\n",
    "cur.execute(\"\"\"create table gemeinsamerkauf (\n",
    "k1_katid int, -- wird Teil des Primärschlüssels (s.u.), daher NOT NULL nicht nötig\n",
    "foreign key (k1_katid) references kategorie(katid) on delete cascade, -- gleichzeitig Teil vom Primärschlüssel und Fremdschlüssel\n",
    "k2_katid int, -- wird Teil des Primärschlüssels (s.u.), daher NOT NULL nicht nötig\n",
    "foreign key (k2_katid) references kategorie(katid) on delete cascade, -- gleichzeitig Teil vom Primärschlüssel und Fremdschlüssel\n",
    "primary key (k1_katid, k2_katid) -- Definition eines zusammengesetzten Primärschlüssel1, 2);\n",
    ");\n",
    "\"\"\")\n",
    "\n",
    "conn.close()"
   ]
  },
  {
   "cell_type": "markdown",
   "metadata": {},
   "source": [
    "## Anzeigen der Tabellen in der Datenbank \"Webshop\""
   ]
  },
  {
   "cell_type": "code",
   "execution_count": null,
   "metadata": {},
   "outputs": [],
   "source": [
    "conn = mysql.connector.connect( host=hostname, user=username, passwd=password, db=database, autocommit=True)\n",
    "cur = conn.cursor()\n",
    "\n",
    "cur.execute(f\"show tables\")\n",
    "\n",
    "print(f\"Tables in database {database}:\")\n",
    "for tbl in cur.fetchall():\n",
    "    print(f\"- {tbl[0]}\")\n",
    "    \n",
    "conn.close()\n"
   ]
  },
  {
   "cell_type": "code",
   "execution_count": null,
   "metadata": {},
   "outputs": [],
   "source": []
  }
 ],
 "metadata": {
  "environment": {
   "name": "common-cpu.m59",
   "type": "gcloud",
   "uri": "gcr.io/deeplearning-platform-release/base-cpu:m59"
  },
  "kernelspec": {
   "display_name": "Python 3",
   "language": "python",
   "name": "python3"
  },
  "language_info": {
   "codemirror_mode": {
    "name": "ipython",
    "version": 3
   },
   "file_extension": ".py",
   "mimetype": "text/x-python",
   "name": "python",
   "nbconvert_exporter": "python",
   "pygments_lexer": "ipython3",
   "version": "3.7.4"
  }
 },
 "nbformat": 4,
 "nbformat_minor": 4
}
