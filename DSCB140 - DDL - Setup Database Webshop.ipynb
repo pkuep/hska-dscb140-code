{
 "cells": [
  {
   "cell_type": "markdown",
   "metadata": {},
   "source": [
    "# Webshop - DDL - Anlegen der Tabellen und Beziehungen\n",
    "### Hinweise\n",
    "- In den Verbindungsparametern müssen Sie unter hostname die private IP-Adresse des MySQL-Servers einfügen (siehe Codelab).\n",
    "- Auch das Passwort des root-Nutzers müssen Sie anpassen.\n",
    "- Wenn Sie die gesamte webshop-Datenbankstruktur erzeugen möchten müssen Sie alle Zellen ausführen (Menü Run -> Run all cells)."
   ]
  },
  {
   "cell_type": "code",
   "execution_count": null,
   "metadata": {},
   "outputs": [],
   "source": [
    "# verwendete Pakete\n",
    "import mysql.connector"
   ]
  },
  {
   "cell_type": "markdown",
   "metadata": {},
   "source": [
    "### Herstellen der Datenbankverbindung"
   ]
  },
  {
   "cell_type": "markdown",
   "metadata": {},
   "source": [
    "#### Notwendige Verbindungsparameter"
   ]
  },
  {
   "cell_type": "code",
   "execution_count": null,
   "metadata": {},
   "outputs": [],
   "source": [
    "hostname = ''  # die private IP-Adresse der Cloud SQL-Instanz\n",
    "username = 'root'  # wir haben bisher nur root als Nutzer\n",
    "password = ''  # das Kennwort, das Sie beim Anlegen der Instanz vergeben haben\n",
    "database = 'webshop'  # dies ist unsere Webshop-Datenbank"
   ]
  },
  {
   "cell_type": "markdown",
   "metadata": {},
   "source": [
    "### Testen der Verbindung"
   ]
  },
  {
   "cell_type": "code",
   "execution_count": null,
   "metadata": {},
   "outputs": [],
   "source": [
    "# dieser code sollte die bisherigen Datenbanken in Ihrem RDBMS anzeigen\n",
    "conn = mysql.connector.connect( host=hostname, user=username, passwd=password, autocommit=True)\n",
    "cur = conn.cursor()\n",
    "\n",
    "cur.execute(f\"show databases\")\n",
    "\n",
    "print(f\"Databases:\")\n",
    "for db in cur.fetchall():\n",
    "    print(f\"- {db[0]}\")\n",
    "    \n",
    "conn.close()"
   ]
  },
  {
   "cell_type": "markdown",
   "metadata": {},
   "source": [
    "## Anlegen der Datenbank und Definition des Datenbankschemas"
   ]
  },
  {
   "cell_type": "code",
   "execution_count": null,
   "metadata": {},
   "outputs": [],
   "source": [
    "# read database and table structure from SQL file\n",
    "ddl_filename = \"DSCB140 - Fallstudie Webshop - DDL.sql\"\n",
    "with open (ddl_filename, \"r\") as ddl_file:\n",
    "    ddl_commands=ddl_file.readlines()\n",
    "    ddl_commands = \"\".join(ddl_commands)"
   ]
  },
  {
   "cell_type": "code",
   "execution_count": null,
   "metadata": {},
   "outputs": [],
   "source": [
    "conn = mysql.connector.connect( host=hostname, user=username, passwd=password, autocommit=True)  # create connection\n",
    "\n",
    "cur = conn.cursor()\n",
    "cur.execute(ddl_commands, multi=True)  # execute all SQL-statements from file \n",
    "    \n",
    "conn.close()\n"
   ]
  },
  {
   "cell_type": "markdown",
   "metadata": {},
   "source": [
    "## Anzeigen der Tabellen in der Datenbank \"Webshop\""
   ]
  },
  {
   "cell_type": "code",
   "execution_count": null,
   "metadata": {},
   "outputs": [],
   "source": [
    "conn = mysql.connector.connect( host=hostname, user=username, passwd=password, db=database, autocommit=True)\n",
    "cur = conn.cursor()\n",
    "\n",
    "cur.execute(f\"show tables\")\n",
    "\n",
    "print(f\"Tables in database {database}:\")\n",
    "for tbl in cur.fetchall():\n",
    "    print(f\"- {tbl[0]}\")\n",
    "    \n",
    "conn.close()\n"
   ]
  },
  {
   "cell_type": "code",
   "execution_count": null,
   "metadata": {},
   "outputs": [],
   "source": []
  }
 ],
 "metadata": {
  "environment": {
   "name": "common-cpu.m59",
   "type": "gcloud",
   "uri": "gcr.io/deeplearning-platform-release/base-cpu:m59"
  },
  "kernelspec": {
   "display_name": "Python 3",
   "language": "python",
   "name": "python3"
  },
  "language_info": {
   "codemirror_mode": {
    "name": "ipython",
    "version": 3
   },
   "file_extension": ".py",
   "mimetype": "text/x-python",
   "name": "python",
   "nbconvert_exporter": "python",
   "pygments_lexer": "ipython3",
   "version": "3.7.4"
  }
 },
 "nbformat": 4,
 "nbformat_minor": 4
}
