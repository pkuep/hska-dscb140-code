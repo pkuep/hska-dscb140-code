{
 "cells": [
  {
   "cell_type": "markdown",
   "metadata": {},
   "source": [
    "# Webshop - DML - Einfügen von Daten\n",
    "### Hinweise\n",
    "- In den Verbindungsparametern müssen Sie unter hostname die private IP-Adresse des MySQL-Servers einfügen (siehe Codelab).\n",
    "- Auch das Passwort des root-Nutzers müssen Sie anpassen.\n",
    "- Wenn Sie die gesamte webshop-Datenbank mit Daten befüllen möchten müssen Sie alle Zellen ausführen (Menü Run -> Run all cells)."
   ]
  },
  {
   "cell_type": "code",
   "execution_count": null,
   "metadata": {},
   "outputs": [],
   "source": [
    "# verwendete Pakete\n",
    "import mysql.connector\n",
    "from numpy.random import randint, choice\n",
    "from random import randrange\n",
    "from datetime import timedelta, datetime"
   ]
  },
  {
   "cell_type": "markdown",
   "metadata": {},
   "source": [
    "### Herstellen der Datenbankverbindung"
   ]
  },
  {
   "cell_type": "markdown",
   "metadata": {},
   "source": [
    "#### Notwendige Verbindungsparameter"
   ]
  },
  {
   "cell_type": "code",
   "execution_count": null,
   "metadata": {},
   "outputs": [],
   "source": [
    "hostname = ''  # die private IP-Adresse der Cloud SQL-Instanz\n",
    "username = 'root'  # wir haben bisher nur root als Nutzer\n",
    "password = ''  # das Kennwort, das Sie beim Anlegen der Instanz vergeben haben\n",
    "database = 'webshop'  # dies ist unsere Webshop-Datenbank"
   ]
  },
  {
   "cell_type": "markdown",
   "metadata": {},
   "source": [
    "### Hilfsfunktion zum Einfügen von Daten in die Datenbank"
   ]
  },
  {
   "cell_type": "code",
   "execution_count": 1,
   "metadata": {},
   "outputs": [],
   "source": [
    "def insert_rows(table_name, rows, hostname, username, password, database, cols=None, delete_table=True):\n",
    "    \"\"\" inserts the provided rows into the tabe table_name using the database connection conn\n",
    "        - hostname, username, password, and database name required\n",
    "        - rows needs to be a standard python list filled with tuples\n",
    "        - if cols is provided, the column names are inserted into the insert-statement \n",
    "          otherwise values for all columns are assumed\n",
    "        - if delete_table is set to True, the table is emptied before inserting new values\n",
    "    \"\"\"\n",
    "    conn = mysql.connector.connect( host=hostname, user=username, passwd=password, db=database, autocommit=True)\n",
    "    cur = conn.cursor()\n",
    "    \n",
    "    # only delete if flag is set\n",
    "    if delete_table:\n",
    "        cur.execute(f\"delete from {table_name}\")\n",
    "        \n",
    "    # iterate over all provided rows\n",
    "    for r in rows:\n",
    "        if cols:\n",
    "            # specific columns inserted\n",
    "            cur.execute(f\"insert into {table_name} {cols} values {r}\")\n",
    "        else:\n",
    "            # all columns inserted\n",
    "            cur.execute(f\"insert into {table_name} values {r}\")\n",
    "    print(f\"Inserted {len(rows)} rows into table {table_name}\")\n",
    "    conn.close()"
   ]
  },
  {
   "cell_type": "markdown",
   "metadata": {},
   "source": [
    "### Hilfsfunktion zum Generieren von Bestelldaten (Datum)"
   ]
  },
  {
   "cell_type": "code",
   "execution_count": 2,
   "metadata": {},
   "outputs": [],
   "source": [
    "def random_date(start, end):\n",
    "    \"\"\" This function will return a random datetime between two datetime objects.\n",
    "    \"\"\"\n",
    "    delta = end - start\n",
    "    int_delta = (delta.days * 24 * 60 * 60) + delta.seconds\n",
    "    random_second = randrange(int_delta)\n",
    "    return start + timedelta(seconds=random_second)"
   ]
  },
  {
   "cell_type": "markdown",
   "metadata": {},
   "source": [
    "## Einfügen der Daten"
   ]
  },
  {
   "cell_type": "markdown",
   "metadata": {},
   "source": [
    "### Tabelle Status"
   ]
  },
  {
   "cell_type": "code",
   "execution_count": 3,
   "metadata": {},
   "outputs": [
    {
     "ename": "NameError",
     "evalue": "name 'hostname' is not defined",
     "output_type": "error",
     "traceback": [
      "\u001b[1;31m---------------------------------------------------------------------------\u001b[0m",
      "\u001b[1;31mNameError\u001b[0m                                 Traceback (most recent call last)",
      "\u001b[1;32m<ipython-input-3-d12ca9646491>\u001b[0m in \u001b[0;36m<module>\u001b[1;34m\u001b[0m\n\u001b[0;32m      7\u001b[0m         ]\n\u001b[0;32m      8\u001b[0m \u001b[1;33m\u001b[0m\u001b[0m\n\u001b[1;32m----> 9\u001b[1;33m \u001b[0minsert_rows\u001b[0m\u001b[1;33m(\u001b[0m\u001b[0mtable_name\u001b[0m\u001b[1;33m,\u001b[0m \u001b[0mstates\u001b[0m\u001b[1;33m,\u001b[0m \u001b[0mhostname\u001b[0m\u001b[1;33m,\u001b[0m \u001b[0musername\u001b[0m\u001b[1;33m,\u001b[0m \u001b[0mpassword\u001b[0m\u001b[1;33m,\u001b[0m \u001b[0mdatabase\u001b[0m\u001b[1;33m)\u001b[0m\u001b[1;33m\u001b[0m\u001b[1;33m\u001b[0m\u001b[0m\n\u001b[0m",
      "\u001b[1;31mNameError\u001b[0m: name 'hostname' is not defined"
     ]
    }
   ],
   "source": [
    "table_name = 'status'\n",
    "states = [(1, 'Bestellt'), \n",
    "          (2, 'Kommissioniert'), \n",
    "          (3, 'Versendet'), \n",
    "          (4, 'Zugestellt'), \n",
    "          (5, 'Retoure')\n",
    "        ]\n",
    "\n",
    "insert_rows(table_name, states, hostname, username, password, database)"
   ]
  },
  {
   "cell_type": "markdown",
   "metadata": {},
   "source": [
    "### Tabelle Kategorie"
   ]
  },
  {
   "cell_type": "code",
   "execution_count": null,
   "metadata": {},
   "outputs": [],
   "source": [
    "table_name = 'kategorie'\n",
    "categories = [(1, 'Molkereiprodukte'), \n",
    "              (2, 'Eier'), \n",
    "              (3, 'Süßwaren'), \n",
    "              (4, 'Obst'), \n",
    "              (5, 'Gemüse'),\n",
    "              (6, 'Fleisch'),\n",
    "              (7, 'Fisch')  # dieser Kategorie wird kein Produkt zugewiesen\n",
    "        ]\n",
    "\n",
    "insert_rows(table_name, categories, hostname, username, password, database)"
   ]
  },
  {
   "cell_type": "markdown",
   "metadata": {},
   "source": [
    "### Tabelle Produkt"
   ]
  },
  {
   "cell_type": "code",
   "execution_count": null,
   "metadata": {},
   "outputs": [],
   "source": [
    "table_name = 'produkt'\n",
    "\n",
    "# Produkte mit Kategoriezuordnung\n",
    "products_1 = [(1, 'Schokoladenpudding', '2020-11-24 12:15:59', 100, 0.8, 1),\n",
    "            (2, 'Eier (Freilandhaltung)', '2020-11-24 13:16:59', 300, 2.2, 2),\n",
    "            (3, 'Banane', '2020-11-24 14:10:55', 150, 0.23, 4),\n",
    "            (4, 'Zitrone', '2020-11-25 11:13:59', 80, 0.34, 4),\n",
    "            (5, 'Blumenkohl', '2020-10-24 12:15:59', 10, 1.8, 5),\n",
    "            (6, 'Grillwurst', '2020-10-24 12:14:48', 50, 3.6, 6),\n",
    "            (7, 'Weiße Schokolade', '2020-12-01 09:15:59', 90, 1.1, 3),\n",
    "            (8, 'Zartbitterschokolade', '2020-11-28 16:15:59', 106, 0.9, 3),\n",
    "            (9, 'Vollmilch', '2020-09-24 13:13:23', 80, 0.9, 1)            \n",
    "        ]\n",
    "\n",
    "insert_rows(table_name, products_1, hostname, username, password, database)\n",
    "\n",
    "# Produkte ohne Kategoriezuordnung\n",
    "products_2 = [(10, 'Katzenfutter', '2020-11-30 12:17:42', 10, 2.20), \n",
    "            (11, 'Hundefutter', '2020-11-30 12:17:48', 18, 2.40)]\n",
    "\n",
    "insert_rows(table_name, products_2, hostname, username, password, database, cols=\"(pnr, bezeichnung, angelegt_am, verfuegbarkeit, preis)\", delete_table=False)\n",
    "\n",
    "products = products_1\n",
    "products.extend(products_2)"
   ]
  },
  {
   "cell_type": "markdown",
   "metadata": {},
   "source": [
    "### Tabelle Abteilung"
   ]
  },
  {
   "cell_type": "code",
   "execution_count": null,
   "metadata": {},
   "outputs": [],
   "source": [
    "table_name = 'abteilung'\n",
    "ous_without_parent = [(1, 'Unternehmensleitung')]\n",
    "insert_rows(table_name, ous_without_parent, hostname, username, password, database, cols=\"(abtid, bezeichnung)\")\n",
    "\n",
    "ous_with_parent = [(2, 'Vertrieb', 1),\n",
    "       (3, 'Einkauf', 1),\n",
    "       (4, 'Strategischer Einkauf', 3),\n",
    "       (5, 'Operativer Einkauf', 4)        \n",
    "        ]\n",
    "\n",
    "insert_rows(table_name, ous_with_parent, hostname, username, password, database, delete_table=False)"
   ]
  },
  {
   "cell_type": "markdown",
   "metadata": {},
   "source": [
    "### Tabelle Benutzer"
   ]
  },
  {
   "cell_type": "code",
   "execution_count": null,
   "metadata": {},
   "outputs": [],
   "source": [
    "table_name = 'benutzer'\n",
    "users = [('peter.schulz@ab.de', 'geheim', 'Peter', 'Schulz'), \n",
    "         ('julia.meier@ab.de', 'geheim', 'Julia', 'Meier'),\n",
    "         ('hans.mueller@xy.de', 'geheim', 'Hans', 'Müller'),\n",
    "         ('lea.schmidt@xy.de', 'geheim', 'Lea', 'Schmidt'),\n",
    "         ('leonie.hausmann@ms.de', 'geheim', 'Leonie', 'Hausmann'),\n",
    "         ('fr.wiedel@ms.de', 'geheim', 'Friedrich', 'Wiedel'),\n",
    "        ]\n",
    "\n",
    "insert_rows(table_name, users, hostname, username, password, database)"
   ]
  },
  {
   "cell_type": "markdown",
   "metadata": {},
   "source": [
    "### Tabelle Kunde"
   ]
  },
  {
   "cell_type": "code",
   "execution_count": null,
   "metadata": {},
   "outputs": [],
   "source": [
    "table_name = 'kunde'\n",
    "customers = [('peter.schulz@ab.de', 1, 'Hauptstr.', '1a', '76185', 'Karlsruhe', '1990-09-19'), \n",
    "             ('hans.mueller@xy.de', 2, 'Meisenweg', '12', '45472', 'Essen', '1961-04-13'),\n",
    "             ('lea.schmidt@xy.de', 3, 'Schillerstr.', '75', '76135', 'Karlsruhe', '1992-11-11'),\n",
    "             ('leonie.hausmann@ms.de', 4, 'Marktplatz', '14', '48459', 'Münster', '1988-01-23'),\n",
    "            ]\n",
    "\n",
    "insert_rows(table_name, customers, hostname, username, password, database)"
   ]
  },
  {
   "cell_type": "markdown",
   "metadata": {},
   "source": [
    "### Tabelle Mitarbeiter"
   ]
  },
  {
   "cell_type": "code",
   "execution_count": null,
   "metadata": {},
   "outputs": [],
   "source": [
    "table_name = 'mitarbeiter'\n",
    "employees = [('julia.meier@ab.de', 1, '0721 5556655', 2),\n",
    "             ('fr.wiedel@ms.de', 2, '0721 5556656', 4),\n",
    "            ]\n",
    "\n",
    "insert_rows(table_name, employees, hostname, username, password, database)"
   ]
  },
  {
   "cell_type": "markdown",
   "metadata": {},
   "source": [
    "### Tabelle Warenkorbposition"
   ]
  },
  {
   "cell_type": "code",
   "execution_count": null,
   "metadata": {},
   "outputs": [],
   "source": [
    "table_name = 'warenkorbposition'\n",
    "basket_positions = []\n",
    "\n",
    "for c in customers:\n",
    "    # draw random number --> number of products in basket for this customer\n",
    "    random_number_of_products = randint(1, len(products)+1)\n",
    "    \n",
    "    # draw without replacement from products\n",
    "    chosen_products = choice(len(products), random_number_of_products, replace=False)\n",
    "    \n",
    "    # add products to basket\n",
    "    for product_idx in chosen_products:\n",
    "        product_id = products[product_idx][0] # get product id        \n",
    "        amount = randint(1, 100) # draw random number --> amount of product in basket\n",
    "        \n",
    "        # customer email (c[0]), product_id, amount\n",
    "        basket_positions.append((c[0], product_id, amount))\n",
    "\n",
    "insert_rows(table_name, basket_positions, hostname, username, password, database)"
   ]
  },
  {
   "cell_type": "markdown",
   "metadata": {},
   "source": [
    "### Tabellen Bestellung und Bestellposition\n",
    "Für die Kunden werden zufällige Bestellungen erzeugt, die von zufällig ausgewählten Mitarbeitern bearbeitet werden und einen zufälligen Status haben. <br>\n",
    "Zusätzlich werden zu jeder Bestellung eine zufällige Anzahl von Positionen mit Produkten und Mengen \"befüllt\"."
   ]
  },
  {
   "cell_type": "code",
   "execution_count": null,
   "metadata": {},
   "outputs": [],
   "source": [
    "orders = []\n",
    "order_positions = []\n",
    "\n",
    "# start and end dates of orders (for random choice)\n",
    "d1 = datetime.strptime('8/1/2020 1:30 PM', '%m/%d/%Y %I:%M %p')\n",
    "d2 = datetime.strptime('11/25/2020 4:50 AM', '%m/%d/%Y %I:%M %p')\n",
    "\n",
    "order_number = 1  # we will not use auto_increment here (easier referencing)\n",
    "\n",
    "for c in customers:\n",
    "    # draw random number --> number of orders\n",
    "    number_of_orders = randint(1, 20)\n",
    "    \n",
    "    for order_idx in range(number_of_orders):\n",
    "        \n",
    "        # get random employee\n",
    "        employee_email = employees[randint(1, len(employees))][0]\n",
    "        \n",
    "        # get random state\n",
    "        state = states[randint(1, len(states))][0]\n",
    "                \n",
    "        # create order  - order number (not using auto_increment), random date, employee email, customer email, status\n",
    "        orders.append((order_number, random_date(d1, d2).strftime(\"%Y-%m-%d %H:%M:%S\"), employee_email, c[0], state))\n",
    "        \n",
    "\n",
    "        # draw random number --> number of products in order for this customer\n",
    "        random_number_of_products = randint(1, len(products)+1)\n",
    "\n",
    "        # draw without replacement from products\n",
    "        chosen_products = choice(len(products), random_number_of_products, replace=False)\n",
    "\n",
    "        # add products to order\n",
    "        for product_idx in chosen_products:\n",
    "            product_id = products[product_idx][0] # get product id        \n",
    "            amount = randint(1, 100) # draw random number --> amount of product in order\n",
    "\n",
    "            order_positions.append((order_number, product_id, amount))\n",
    "            \n",
    "        # increase order number\n",
    "        order_number += 1\n",
    "\n",
    "insert_rows('bestellung', orders, hostname, username, password, database)\n",
    "insert_rows('bestellposition', order_positions, hostname, username, password, database)"
   ]
  },
  {
   "cell_type": "markdown",
   "metadata": {},
   "source": [
    "### Tabelle GemeinsamerKauf"
   ]
  },
  {
   "cell_type": "code",
   "execution_count": null,
   "metadata": {},
   "outputs": [],
   "source": [
    "table_name = 'gemeinsamerkauf'\n",
    "correlated_sales_categories = [(1, 2), # Molkereiprodukte und Eier\n",
    "                               (4, 5), # Obst und Gemüse\n",
    "                               (3, 6)  # Süßwaren und Fleisch\n",
    "                              ]\n",
    "\n",
    "insert_rows(table_name, correlated_sales_categories, hostname, username, password, database)"
   ]
  },
  {
   "cell_type": "markdown",
   "metadata": {},
   "source": [
    "### Prüfen der eingefügten Daten"
   ]
  },
  {
   "cell_type": "code",
   "execution_count": null,
   "metadata": {},
   "outputs": [],
   "source": [
    "conn = mysql.connector.connect( host=hostname, user=username, passwd=password, db=database, autocommit=True)\n",
    "cur = conn.cursor()\n",
    "\n",
    "tables = ['status', 'kategorie', 'benutzer', 'produkt', 'abteilung', 'kunde', 'mitarbeiter', \n",
    "          'bestellung', 'warenkorbposition', 'bestellposition', 'gemeinsamerkauf']\n",
    "\n",
    "for tbl in tables:\n",
    "    cur.execute(f\"select count(*) from {tbl}\")\n",
    "    print(f\"Inserted {cur.fetchall()[0][0]} rows into table {tbl}\")\n",
    "    \n",
    "conn.close()\n"
   ]
  },
  {
   "cell_type": "code",
   "execution_count": null,
   "metadata": {},
   "outputs": [],
   "source": []
  }
 ],
 "metadata": {
  "environment": {
   "name": "common-cpu.m59",
   "type": "gcloud",
   "uri": "gcr.io/deeplearning-platform-release/base-cpu:m59"
  },
  "kernelspec": {
   "display_name": "Python 3",
   "language": "python",
   "name": "python3"
  },
  "language_info": {
   "codemirror_mode": {
    "name": "ipython",
    "version": 3
   },
   "file_extension": ".py",
   "mimetype": "text/x-python",
   "name": "python",
   "nbconvert_exporter": "python",
   "pygments_lexer": "ipython3",
   "version": "3.7.4"
  }
 },
 "nbformat": 4,
 "nbformat_minor": 4
}
