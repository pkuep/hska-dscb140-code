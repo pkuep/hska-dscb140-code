{
 "cells": [
  {
   "cell_type": "markdown",
   "metadata": {},
   "source": [
    "# Webshop - Transaktionen und Integrität - Datenbankverbindung herstellen"
   ]
  },
  {
   "cell_type": "code",
   "execution_count": null,
   "metadata": {},
   "outputs": [],
   "source": [
    "# verwendete Pakete importieren\n",
    "import mysql.connector\n",
    "import sshtunnel\n",
    "import time"
   ]
  },
  {
   "cell_type": "markdown",
   "metadata": {},
   "source": [
    "# Vorbereitungen\n",
    "- Bitte laden Sie das Key-File aus dem ILIAS-Materialordner \"Infos zur Übungsdatenbank\" in denselben Ordner wie dieses Notebook\n",
    "- Bitte stellen Sie die folgenden Verbindungsparameter entsprechend den Vorgaben in ILIAS ein.\n",
    "\n",
    "Referenzen auf die ILIAS-Beschreibung:<br>\n",
    "<img src=\"ilias-referenzen.png\"/>"
   ]
  },
  {
   "cell_type": "markdown",
   "metadata": {},
   "source": [
    "#### Notwendige Verbindungsparameter eingeben"
   ]
  },
  {
   "cell_type": "code",
   "execution_count": null,
   "metadata": {},
   "outputs": [],
   "source": [
    "private_key_ssh = './key'  # Keyfile für die SSH-Verbindung muss im selben Ordner liegen (ILIAS-Materialordner \"Infos zur Übungsdatenbank\")\n",
    "username_ssh = ''  # (1) Username für die SSH-Verbindung (ILIAS - Schritt (1) )\n",
    "password_ssh = ''  # (2) Passwort für die SSH-Verbindung (ILIAS - Schritt (2) )\n",
    "host_ssh = ''  # (3) die IP-Adresse der Übungsdatenbank für die SSH-Verbindung - (ILIAS - Schritt (3) )\n",
    "\n",
    "\n",
    "username_db = ''  # (4) Username für die Datenbankverbindung (ILIAS - Schritt (4) )\n",
    "password_db = ''  # (5) Passwort für die Datenbankverbindung (ILIAS - Schritt (5) )\n",
    "database = ''  # (6) Ihre Übungsdatenbank (ILIAS - Schritt (6) )\n",
    "hostname_db = 'localhost'  # wir nutzen localhost für die Datenbank (wegen der SSH-Verbindung)"
   ]
  },
  {
   "cell_type": "markdown",
   "metadata": {},
   "source": [
    "#### Aufbauen des SSH-Tunnels"
   ]
  },
  {
   "cell_type": "code",
   "execution_count": null,
   "metadata": {},
   "outputs": [],
   "source": [
    "tunnel = sshtunnel.SSHTunnelForwarder(\n",
    "        (host_ssh, 22),\n",
    "        ssh_username=username_ssh,\n",
    "        ssh_pkey=private_key_ssh,\n",
    "        ssh_private_key_password=password_ssh,\n",
    "        remote_bind_address=(hostname_db, 3306),\n",
    "        local_bind_address=(\"0.0.0.0\", 3306)\n",
    ")"
   ]
  },
  {
   "cell_type": "markdown",
   "metadata": {},
   "source": [
    "# Testen der Verbindung\n",
    "Die folgende Zelle sollte mindestens eine Datenbank ausgeben."
   ]
  },
  {
   "cell_type": "code",
   "execution_count": null,
   "metadata": {},
   "outputs": [],
   "source": [
    "with tunnel:\n",
    "     # dieser code sollte die bisherigen Datenbanken in Ihrem RDBMS anzeigen\n",
    "    conn = mysql.connector.connect(host=hostname_db, user=username_db, passwd=password_db, autocommit=True, auth_plugin='mysql_native_password')\n",
    "    \n",
    "    cur = conn.cursor()\n",
    "\n",
    "    cur.execute(f\"show databases\")\n",
    "\n",
    "    print(f\"Databases:\")\n",
    "    for db in cur.fetchall():\n",
    "        print(f\"- {db[0]}\")\n",
    "\n",
    "    conn.close()"
   ]
  }
 ],
 "metadata": {
  "environment": {
   "name": "common-cpu.m59",
   "type": "gcloud",
   "uri": "gcr.io/deeplearning-platform-release/base-cpu:m59"
  },
  "kernelspec": {
   "display_name": "Python 3",
   "language": "python",
   "name": "python3"
  },
  "language_info": {
   "codemirror_mode": {
    "name": "ipython",
    "version": 3
   },
   "file_extension": ".py",
   "mimetype": "text/x-python",
   "name": "python",
   "nbconvert_exporter": "python",
   "pygments_lexer": "ipython3",
   "version": "3.8.5"
  }
 },
 "nbformat": 4,
 "nbformat_minor": 4
}
