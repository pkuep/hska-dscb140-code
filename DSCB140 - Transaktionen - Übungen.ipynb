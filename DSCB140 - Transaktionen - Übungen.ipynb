{
 "cells": [
  {
   "cell_type": "markdown",
   "metadata": {},
   "source": [
    "# Webshop - Transaktionen und Integrität - Übungen"
   ]
  },
  {
   "cell_type": "code",
   "execution_count": null,
   "metadata": {},
   "outputs": [],
   "source": [
    "# verwendete Pakete importieren\n",
    "import mysql.connector\n",
    "import sshtunnel\n",
    "import time"
   ]
  },
  {
   "cell_type": "markdown",
   "metadata": {},
   "source": [
    "### Herstellen der Datenbankverbindung"
   ]
  },
  {
   "cell_type": "markdown",
   "metadata": {},
   "source": [
    "#### Notwendige Verbindungsparameter"
   ]
  },
  {
   "cell_type": "code",
   "execution_count": null,
   "metadata": {},
   "outputs": [],
   "source": [
    "private_key_ssh = './key'  # Keyfile für die SSH-Verbindung muss im selben Ordner liegen (ILIAS-Materialordner \"Infos zur Übungsdatenbank\")\n",
    "username_ssh = ''  # (1) Username für die SSH-Verbindung (ILIAS - Schritt (1) )\n",
    "password_ssh = ''  # (2) Passwort für die SSH-Verbindung (ILIAS - Schritt (2) )\n",
    "host_ssh = ''  # (3) die IP-Adresse der Übungsdatenbank für die SSH-Verbindung - (ILIAS - Schritt (3) )\n",
    "\n",
    "\n",
    "username_db = ''  # (4) Username für die Datenbankverbindung (ILIAS - Schritt (4) )\n",
    "password_db = ''  # (5) Passwort für die Datenbankverbindung (ILIAS - Schritt (5) )\n",
    "database = ''  # (6) Ihre Übungsdatenbank (ILIAS - Schritt (6) )\n",
    "hostname_db = 'localhost'  # wir nutzen localhost für die Datenbank (wegen der SSH-Verbindung)"
   ]
  },
  {
   "cell_type": "markdown",
   "metadata": {},
   "source": [
    "#### Aufbauen des SSH-Tunnels"
   ]
  },
  {
   "cell_type": "code",
   "execution_count": null,
   "metadata": {},
   "outputs": [],
   "source": [
    "tunnel = sshtunnel.SSHTunnelForwarder(\n",
    "        (host_ssh, 22),\n",
    "        ssh_username=username_ssh,\n",
    "        ssh_pkey=private_key_ssh,\n",
    "        ssh_private_key_password=password_ssh,\n",
    "        remote_bind_address=(hostname_db, 3306),\n",
    "        local_bind_address=(\"0.0.0.0\", 3306)\n",
    ")"
   ]
  },
  {
   "cell_type": "markdown",
   "metadata": {},
   "source": [
    "## Beispielkunde und Bearbeiter"
   ]
  },
  {
   "cell_type": "code",
   "execution_count": null,
   "metadata": {},
   "outputs": [],
   "source": [
    "# Beispieldaten\n",
    "kunde = 'lea.schmidt@xy.de'\n",
    "bearbeiter = 'julia.meier@ab.de'\n",
    "bestellstatus = 1 # Bestellung erhält status \"bestellt\""
   ]
  },
  {
   "cell_type": "markdown",
   "metadata": {},
   "source": [
    "## Warenkorb vorbereiten"
   ]
  },
  {
   "cell_type": "code",
   "execution_count": null,
   "metadata": {},
   "outputs": [],
   "source": [
    "with tunnel:\n",
    "    # Verbindung aufbauen\n",
    "    conn = mysql.connector.connect(host=hostname_db, user=username_db, passwd=password_db, autocommit=True, database=database, auth_plugin='mysql_native_password')\n",
    "    cur = conn.cursor()\n",
    "    \n",
    "    try:\n",
    "        # beispielhaften Warenkorb anlegen\n",
    "        cur.execute(f\"delete from warenkorbposition where kunde_email = '{kunde}'\")  # Warenkorb leeren\n",
    "        cur.execute(f\"insert into warenkorbposition values ('{kunde}', 1, 100), ('{kunde}', 2, 200), ('{kunde}', 3, 300), ('{kunde}', 4, 400)\")  # Warenkorb füllen\n",
    "        \n",
    "    except Exception as e:\n",
    "        print(f\"{e}\")    \n",
    "    \n",
    "    conn.close()   "
   ]
  },
  {
   "cell_type": "markdown",
   "metadata": {},
   "source": [
    "## Warenkorb in Bestellung überführen"
   ]
  },
  {
   "cell_type": "code",
   "execution_count": null,
   "metadata": {},
   "outputs": [],
   "source": [
    "with tunnel:\n",
    "    # Verbindung aufbauen\n",
    "    conn = mysql.connector.connect(host=hostname_db, user=username_db, passwd=password_db, autocommit=False, database=database, auth_plugin='mysql_native_password')\n",
    "    cur = conn.cursor()\n",
    "    \n",
    "    try:\n",
    "        # Transaktion starten (alle folgenden Operationen gemeinsam als atomar betrachten)\n",
    "        conn.start_transaction()\n",
    "        print(\"Transaktion 'Warenkorb in Bestellung überführen' begonnen\")\n",
    "        \n",
    "        # Bestellung mit auto-generierte Bestellnummer anlegen\n",
    "        sql = f\"insert into bestellung (bestelldatum, bearbeitet_email, kunde, statusid) values \" \\\n",
    "              f\"(now(), '{bearbeiter}', '{kunde}', {bestellstatus})\"\n",
    "        print(f\"Führe aus: {sql}\")\n",
    "        cur.execute(sql)\n",
    "        \n",
    "        # ID der eingefügten Bestellung holen\n",
    "        new_order_id = cur.lastrowid\n",
    "        \n",
    "        # ALle Positionen aus dem Warenkorb als Bestellpositionen übernehmen\n",
    "        sql = f\"insert into bestellposition \" \\\n",
    "              f\"select {new_order_id}, pnr, menge from warenkorbposition w where kunde_email = '{kunde}'\"\n",
    "        print(f\"Führe aus: {sql}\")\n",
    "        cur.execute(sql)        \n",
    "        \n",
    "        time.sleep(0)\n",
    "        \n",
    "        # Warenkorbpositionen löschen\n",
    "        sql = f\"delete from warenkorbposition where kunde_em = '{kunde}'\"\n",
    "        print(f\"Führe aus: {sql}\")\n",
    "        cur.execute(sql)\n",
    "        \n",
    "        # Transaktion abschließen (\"commit\")\n",
    "        conn.commit()\n",
    "        print(f\"Transaktion 'Warenkorb in Bestellung überführen' abgeschlossen. Neue Bestellnummer: {new_order_id}\")\n",
    "        \n",
    "    except Exception as e:\n",
    "        # Im Fehlerfall die bisherigen Änderungen rückgängig machen (\"rollback\")\n",
    "        print(f\"Fehler: {e}\")\n",
    "        print(f\"Bisherige Änderungen rückgänig machen. Neue Bestellnummer nicht mehr im System: {new_order_id}\")\n",
    "        conn.rollback()\n",
    "            \n",
    "    conn.close()\n",
    "    \n",
    "    "
   ]
  }
 ],
 "metadata": {
  "environment": {
   "name": "common-cpu.m59",
   "type": "gcloud",
   "uri": "gcr.io/deeplearning-platform-release/base-cpu:m59"
  },
  "kernelspec": {
   "display_name": "Python 3",
   "language": "python",
   "name": "python3"
  },
  "language_info": {
   "codemirror_mode": {
    "name": "ipython",
    "version": 3
   },
   "file_extension": ".py",
   "mimetype": "text/x-python",
   "name": "python",
   "nbconvert_exporter": "python",
   "pygments_lexer": "ipython3",
   "version": "3.8.5"
  }
 },
 "nbformat": 4,
 "nbformat_minor": 4
}
